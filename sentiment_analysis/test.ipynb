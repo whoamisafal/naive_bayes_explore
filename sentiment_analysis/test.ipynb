{
 "cells": [
  {
   "cell_type": "code",
   "execution_count": 65,
   "metadata": {},
   "outputs": [],
   "source": [
    "import joblib"
   ]
  },
  {
   "cell_type": "code",
   "execution_count": 66,
   "metadata": {},
   "outputs": [],
   "source": [
    "model = joblib.load(filename=\"multinomial_nb_model.joblib\")\n",
    "vectorizer = joblib.load(filename=\"vectorizer.joblib\")\n",
    "labelEncoder = joblib.load(filename=\"labelEncoder.joblib\")"
   ]
  },
  {
   "cell_type": "code",
   "execution_count": 67,
   "metadata": {},
   "outputs": [],
   "source": [
    "X= ['I hate this game','Hello','I love this game', 'This game is bad', 'Amazing gameplay', 'Not good', 'Excellent story']"
   ]
  },
  {
   "cell_type": "code",
   "execution_count": 68,
   "metadata": {},
   "outputs": [],
   "source": [
    "X_vect = vectorizer.transform(X)"
   ]
  },
  {
   "cell_type": "code",
   "execution_count": 69,
   "metadata": {},
   "outputs": [],
   "source": [
    "y_predict = model.predict(X_vect)"
   ]
  },
  {
   "cell_type": "code",
   "execution_count": 70,
   "metadata": {},
   "outputs": [
    {
     "data": {
      "text/plain": [
       "array([[0.06671351, 0.7144782 , 0.05845915, 0.16034914],\n",
       "       [0.14404215, 0.4193826 , 0.24940622, 0.18716903],\n",
       "       [0.09887381, 0.11805547, 0.06137307, 0.72169764],\n",
       "       [0.05442711, 0.70264564, 0.05394907, 0.18897817],\n",
       "       [0.11130073, 0.0472688 , 0.18657736, 0.65485311],\n",
       "       [0.18044385, 0.25973051, 0.1535251 , 0.40630054],\n",
       "       [0.09475436, 0.0396716 , 0.28186595, 0.58370809]])"
      ]
     },
     "execution_count": 70,
     "metadata": {},
     "output_type": "execute_result"
    }
   ],
   "source": [
    "model.predict_proba(X_vect)"
   ]
  },
  {
   "cell_type": "code",
   "execution_count": 71,
   "metadata": {},
   "outputs": [],
   "source": [
    "predicted_labels = labelEncoder.inverse_transform(y_predict)\n"
   ]
  },
  {
   "cell_type": "code",
   "execution_count": 72,
   "metadata": {},
   "outputs": [
    {
     "data": {
      "text/plain": [
       "array(['Negative', 'Negative', 'Positive', 'Negative', 'Positive',\n",
       "       'Positive', 'Positive'], dtype=object)"
      ]
     },
     "execution_count": 72,
     "metadata": {},
     "output_type": "execute_result"
    }
   ],
   "source": [
    "predicted_labels"
   ]
  }
 ],
 "metadata": {
  "kernelspec": {
   "display_name": "test",
   "language": "python",
   "name": "python3"
  },
  "language_info": {
   "codemirror_mode": {
    "name": "ipython",
    "version": 3
   },
   "file_extension": ".py",
   "mimetype": "text/x-python",
   "name": "python",
   "nbconvert_exporter": "python",
   "pygments_lexer": "ipython3",
   "version": "3.11.9"
  }
 },
 "nbformat": 4,
 "nbformat_minor": 2
}
